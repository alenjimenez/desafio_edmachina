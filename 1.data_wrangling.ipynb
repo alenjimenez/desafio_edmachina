{
 "cells": [
  {
   "cell_type": "markdown",
   "metadata": {},
   "source": [
    "# **DESAFÍO ED MACHINA**\n",
    "Alen Jiménez - Febrero 2024"
   ]
  },
  {
   "cell_type": "markdown",
   "metadata": {},
   "source": [
    "**DATA WRANGLING (DW)**"
   ]
  },
  {
   "cell_type": "markdown",
   "metadata": {},
   "source": [
    "El objetivo de esta notebook es hacer una primera exploración del dataset y transformarlo para ser utilizado en las etapas de EDA y de ML."
   ]
  },
  {
   "cell_type": "markdown",
   "metadata": {},
   "source": [
    "# Tabla de Contenidos\n",
    "* 0. [Set Up General](#set_up_general)\n",
    "* 1. [Exploración General del Dataset](#exploracion_general_dataset)\n",
    "* 2. [Edición para Tabla Final](#edicion_para_tabla_final)"
   ]
  },
  {
   "cell_type": "markdown",
   "metadata": {},
   "source": [
    "# 0. Set Up General<a class = 'anchor' id = 'set_up_general'></a>"
   ]
  },
  {
   "cell_type": "code",
   "execution_count": 1,
   "metadata": {},
   "outputs": [],
   "source": [
    "# Importamos bibliotecas\n",
    "\n",
    "import os\n",
    "import pandas as pd\n",
    "import numpy as np\n",
    "import matplotlib.pyplot as plt\n",
    "import seaborn as sns\n",
    "import bokeh\n",
    "import altair as alt\n",
    "import re\n",
    "import scipy\n",
    "import warnings\n",
    "\n",
    "pd.set_option('display.max_columns', None)\n",
    "warnings.filterwarnings('ignore')"
   ]
  },
  {
   "cell_type": "code",
   "execution_count": 2,
   "metadata": {},
   "outputs": [
    {
     "name": "stdout",
     "output_type": "stream",
     "text": [
      "Directorio actual de trabajo: C:\\Users\\alenj\\Escritorio\\proyectos\\desafio_edmachina\n"
     ]
    }
   ],
   "source": [
    "# Directorio de trabajo\n",
    "\n",
    "directorio_de_trabajo = 'C:/Users/alenj/Escritorio/proyectos/desafio_edmachina'\n",
    "\n",
    "os.chdir(directorio_de_trabajo)\n",
    "\n",
    "print(f'Directorio actual de trabajo: {os.getcwd()}')"
   ]
  },
  {
   "cell_type": "markdown",
   "metadata": {},
   "source": [
    "# 1. Exploración General del Dataset <a class = 'anchor' id = 'exploracion_general_dataset'></a>"
   ]
  },
  {
   "cell_type": "code",
   "execution_count": 3,
   "metadata": {},
   "outputs": [],
   "source": [
    "# Importamos el csv\n",
    "\n",
    "df = pd.read_csv('challenge_MLE.csv', sep = ';', encoding = 'utf-8')"
   ]
  },
  {
   "cell_type": "code",
   "execution_count": 4,
   "metadata": {},
   "outputs": [
    {
     "name": "stdout",
     "output_type": "stream",
     "text": [
      "El dataset original tiene 196124 filas y 24 columnas.\n"
     ]
    }
   ],
   "source": [
    "# Vemos la cantidad de filas y columnas\n",
    "\n",
    "print(f'El dataset original tiene {df.shape[0]} filas y {df.shape[1]} columnas.')"
   ]
  },
  {
   "cell_type": "code",
   "execution_count": 5,
   "metadata": {},
   "outputs": [
    {
     "name": "stdout",
     "output_type": "stream",
     "text": [
      "<class 'pandas.core.frame.DataFrame'>\n",
      "RangeIndex: 196124 entries, 0 to 196123\n",
      "Data columns (total 24 columns):\n",
      " #   Column              Non-Null Count   Dtype  \n",
      "---  ------              --------------   -----  \n",
      " 0   particion           196124 non-null  int64  \n",
      " 1   periodo             196124 non-null  object \n",
      " 2   nota_final_materia  196124 non-null  float64\n",
      " 3   fecha_mesa_epoch    7010 non-null    float64\n",
      " 4   nombre_examen       7010 non-null    object \n",
      " 5   nota_parcial        7010 non-null    float64\n",
      " 6   assignment_id       26061 non-null   float64\n",
      " 7   ass_name            26061 non-null   object \n",
      " 8   ass_created_at      26061 non-null   float64\n",
      " 9   ass_due_at          26061 non-null   float64\n",
      " 10  ass_unlock_at       24760 non-null   float64\n",
      " 11  ass_lock_at         25979 non-null   float64\n",
      " 12  points_possible     26061 non-null   float64\n",
      " 13  ass_name_sub        24206 non-null   object \n",
      " 14  sub_uuid            24206 non-null   object \n",
      " 15  score               23876 non-null   float64\n",
      " 16  submission_type     24206 non-null   object \n",
      " 17  s_submitted_at      24206 non-null   float64\n",
      " 18  s_graded_at         23877 non-null   float64\n",
      " 19  s_created_at        24206 non-null   float64\n",
      " 20  user_uuid           196124 non-null  object \n",
      " 21  course_uuid         196124 non-null  object \n",
      " 22  course_name         196124 non-null  object \n",
      " 23  legajo              196124 non-null  object \n",
      "dtypes: float64(13), int64(1), object(10)\n",
      "memory usage: 35.9+ MB\n"
     ]
    }
   ],
   "source": [
    "# Información del dataframe\n",
    "\n",
    "df.info()"
   ]
  },
  {
   "cell_type": "code",
   "execution_count": 6,
   "metadata": {},
   "outputs": [
    {
     "data": {
      "text/plain": [
       "600"
      ]
     },
     "execution_count": 6,
     "metadata": {},
     "output_type": "execute_result"
    }
   ],
   "source": [
    "# Cantidad de estudiantes únicos\n",
    "\n",
    "df.user_uuid.nunique()"
   ]
  },
  {
   "cell_type": "code",
   "execution_count": 7,
   "metadata": {},
   "outputs": [
    {
     "data": {
      "text/plain": [
       "periodo\n",
       "1-2022     187854\n",
       "01-2022      7730\n",
       "2-2022        540\n",
       "Name: count, dtype: int64"
      ]
     },
     "execution_count": 7,
     "metadata": {},
     "output_type": "execute_result"
    }
   ],
   "source": [
    "# Cantidad de periodos\n",
    "\n",
    "df.periodo.value_counts()"
   ]
  },
  {
   "cell_type": "code",
   "execution_count": 8,
   "metadata": {},
   "outputs": [
    {
     "name": "stdout",
     "output_type": "stream",
     "text": [
      "Cantidad de materias únicas: 582\n",
      "\n"
     ]
    }
   ],
   "source": [
    "# Cantidad de materias\n",
    "\n",
    "print(f'Cantidad de materias únicas: {df.course_uuid.nunique()}\\n')"
   ]
  },
  {
   "cell_type": "markdown",
   "metadata": {},
   "source": [
    "Observaciones:\n",
    "- La medición de las características incluidas en la tabla depende de la existencia de un historial académico.\n",
    "- Es decir, es muy dificil estimar la probabilidad de aprobación de estudiantes nuevos, sin historial, usando los datos disponibles en la tabla.\n",
    "- La tabla no incluye características sociodemográficas o de contexto del estudiante como por ejemplo el sexo, la edad, el nivel educativo, el lugar de residencia, características de los padres, etc."
   ]
  },
  {
   "cell_type": "code",
   "execution_count": 9,
   "metadata": {},
   "outputs": [
    {
     "data": {
      "text/plain": [
       "count    196124.000000\n",
       "mean         30.663891\n",
       "std          17.625074\n",
       "min           0.000000\n",
       "25%          15.000000\n",
       "50%          31.000000\n",
       "75%          46.000000\n",
       "max          59.000000\n",
       "Name: particion, dtype: float64"
      ]
     },
     "execution_count": 9,
     "metadata": {},
     "output_type": "execute_result"
    }
   ],
   "source": [
    "# Caracteristicas de la partición\n",
    "\n",
    "df.particion.describe()"
   ]
  },
  {
   "cell_type": "code",
   "execution_count": 10,
   "metadata": {},
   "outputs": [
    {
     "data": {
      "text/plain": [
       "False    178140\n",
       "True      17984\n",
       "Name: count, dtype: int64"
      ]
     },
     "execution_count": 10,
     "metadata": {},
     "output_type": "execute_result"
    }
   ],
   "source": [
    "# Vemos la cantidad de duplicados al nivel que propone el ejercicio\n",
    "\n",
    "df.duplicated(['user_uuid','course_uuid','particion']).value_counts()"
   ]
  },
  {
   "cell_type": "code",
   "execution_count": 11,
   "metadata": {},
   "outputs": [
    {
     "name": "stdout",
     "output_type": "stream",
     "text": [
      "Cantidad de materias únicas: 582\n",
      "\n",
      "Nombre de materias según frecuencia absoluta:\n",
      "\n",
      "course_name\n",
      "Intuitive non-volatile ability                11439\n",
      "Object-based leadingedge help-desk            10341\n",
      "Face-to-face regional concept                  4555\n",
      "Stand-alone upward-trending secured line       4262\n",
      "Total radical adapter                          3537\n",
      "                                              ...  \n",
      "Monitored regional artificial intelligence       60\n",
      "Grass-roots national middleware                  60\n",
      "Multi-channeled homogeneous policy               60\n",
      "Operative fresh-thinking knowledge user          60\n",
      "Operative systematic help-desk                   60\n",
      "Name: count, Length: 561, dtype: int64\n"
     ]
    }
   ],
   "source": [
    "# Materias que se evalúan\n",
    "\n",
    "print(f'Cantidad de materias únicas: {df.course_uuid.nunique()}\\n')\n",
    "print(f'Nombre de materias según frecuencia absoluta:\\n\\n{df.course_name.value_counts()}')"
   ]
  },
  {
   "cell_type": "code",
   "execution_count": 12,
   "metadata": {},
   "outputs": [
    {
     "data": {
      "image/png": "[encoded data removed]",
      "text/plain": [
       "<Figure size 640x480 with 1 Axes>"
      ]
     },
     "metadata": {},
     "output_type": "display_data"
    }
   ],
   "source": [
    "# Histograma de nota final de materia\n",
    "\n",
    "sns.histplot(data = df, x = 'nota_final_materia', bins = 10);"
   ]
  },
  {
   "cell_type": "code",
   "execution_count": 13,
   "metadata": {},
   "outputs": [
    {
     "data": {
      "text/plain": [
       "nombre_examen\n",
       "SEGUNDO PARCIAL(20)                  3213\n",
       "PRIMER PARCIAL(20)                   3067\n",
       "INTEGRADOR(30)                        356\n",
       "RECUPERATORIO PRIMER PARCIAL(20)      242\n",
       "RECUPERATORIO SEGUNDO PARCIAL(20)     132\n",
       "Name: count, dtype: int64"
      ]
     },
     "execution_count": 13,
     "metadata": {},
     "output_type": "execute_result"
    }
   ],
   "source": [
    "# Tipos de examenes\n",
    "\n",
    "df['nombre_examen'].value_counts()"
   ]
  },
  {
   "cell_type": "code",
   "execution_count": 14,
   "metadata": {},
   "outputs": [
    {
     "data": {
      "text/plain": [
       "points_possible\n",
       "100.0    25954\n",
       "0.0         97\n",
       "10.0        10\n",
       "Name: count, dtype: int64"
      ]
     },
     "execution_count": 14,
     "metadata": {},
     "output_type": "execute_result"
    }
   ],
   "source": [
    "# Cantidad maxima de puntos en actividad\n",
    "\n",
    "df.points_possible.value_counts()"
   ]
  },
  {
   "cell_type": "code",
   "execution_count": 15,
   "metadata": {},
   "outputs": [
    {
     "data": {
      "text/plain": [
       "ass_name\n",
       "Actividad Práctica Integradora 4 [API4]                                          3272\n",
       "Trabajo Práctico 2 [TP2]                                                         3208\n",
       "Trabajo Práctico 1 [TP1]                                                         3087\n",
       "Actividad Práctica Integradora 1 [API1]                                          3026\n",
       "Actividad Práctica Integradora 3 [API3]                                          2973\n",
       "Actividad Práctica Integradora 2 [API2]                                          2967\n",
       "Trabajo Práctico 3 [TP3]                                                         2577\n",
       "Trabajo Práctico 4 [TP4]                                                         2484\n",
       "Trabajo Práctico 3 - Diagnóstico [ED3]                                            591\n",
       "Trabajo Práctico 4 - Diagnóstico [ED4]                                            591\n",
       "Trabajo práctico 3 [TP3]                                                           99\n",
       "Trabajo práctico 4 [TP4]                                                           96\n",
       "La Alienación según Marx                                                           82\n",
       "Trabajo práctico 1 [TP1]                                                           79\n",
       "Trabajo práctico 2 [TP2]                                                           79\n",
       "Actividad práctica integradora [API2]                                              76\n",
       "Actividad práctica integradora [API3]                                              76\n",
       "Actividad práctica integradora [API4]                                              75\n",
       "Actividad práctica integradora [API1]                                              74\n",
       "Actividad 4 [TP4]                                                                  53\n",
       "Actividad 3 [TP3]                                                                  51\n",
       "Actividad 2 [TP2]                                                                  50\n",
       "Actividad 1 [TP1]                                                                  49\n",
       "Trabajo Práctico 1 [TP1]                                                           34\n",
       "Trabajo Práctico 1 (parte 3) [TP1]                                                 26\n",
       "Entregable 3 [TP3]                                                                 25\n",
       "Entregable 4 [TP4]                                                                 25\n",
       "Entregable 1 [TP1]                                                                 25\n",
       "Entregable 2 [TP2]                                                                 25\n",
       "Trabajo Práctico 4 - Básico [TP4]                                                  24\n",
       "Trabajo Práctico 4 - Avanzado [TP4]                                                24\n",
       "Trabajo Práctico 3 - Básico [TP3]                                                  24\n",
       "Trabajo Práctico 3 - Avanzado [TP3]                                                24\n",
       "Foro: \"Evaluación de pares\"                                                        15\n",
       "Actividad Práctica Integradora 4 [API4] NUEVO                                      14\n",
       "Trabajo Práctico 4 [TP4]                                                           13\n",
       "Apliquemos lo aprendido!                                                           12\n",
       "MÓDULO 1 - UNIDAD 2 - PRINCIPIO DE OPORTUNIDAD. Profesora Sofía Díaz Pucheta.      10\n",
       "Actividad Práctica  Integradora 3 [API3]                                            4\n",
       "Actividad Práctica  Integradora 1 [API1]                                            3\n",
       "Actividad Práctica  Integradora 2 [API2]                                            3\n",
       "Trabajo Práctico 4 [TP4] Copiar                                                     3\n",
       "Tercera nota. Ampliación de la planta turística de la Ciudad de Córdoba             3\n",
       "Trabajo práctico 4 [TP4]                                                            3\n",
       "NUEVO Actividad Práctica Integradora 1 [API1]                                       1\n",
       "Actividad práctica integradora 1 [API1]                                             1\n",
       "Actividad práctica integradora 3 [API3]                                             1\n",
       "Entregable grupal 1                                                                 1\n",
       "Entregable Grupal 2                                                                 1\n",
       "Entregable Grupal 3                                                                 1\n",
       "Entregable Grupal 4                                                                 1\n",
       "Name: count, dtype: int64"
      ]
     },
     "execution_count": 15,
     "metadata": {},
     "output_type": "execute_result"
    }
   ],
   "source": [
    "# Nombre de actividad\n",
    " \n",
    "df.ass_name.value_counts()"
   ]
  },
  {
   "cell_type": "code",
   "execution_count": 16,
   "metadata": {},
   "outputs": [
    {
     "data": {
      "text/plain": [
       "ass_name_sub\n",
       "Trabajo Práctico 2 [TP2]                   2861\n",
       "Trabajo Práctico 1 [TP1]                   2738\n",
       "Actividad Práctica Integradora 1 [API1]    2638\n",
       "Actividad Práctica Integradora 2 [API2]    2590\n",
       "Actividad Práctica Integradora 3 [API3]    2543\n",
       "                                           ... \n",
       "Examen de suficiencia                         1\n",
       "Entregable grupal 1                           1\n",
       "Entregable Grupal 2                           1\n",
       "Entregable Grupal 3                           1\n",
       "Entregable Grupal 4                           1\n",
       "Name: count, Length: 91, dtype: int64"
      ]
     },
     "execution_count": 16,
     "metadata": {},
     "output_type": "execute_result"
    }
   ],
   "source": [
    "# Nombre de actividad\n",
    "\n",
    "df.ass_name_sub.value_counts()"
   ]
  },
  {
   "cell_type": "code",
   "execution_count": 17,
   "metadata": {},
   "outputs": [
    {
     "data": {
      "text/plain": [
       "periodo\n",
       "1-2022     187854\n",
       "01-2022      7730\n",
       "2-2022        540\n",
       "Name: count, dtype: int64"
      ]
     },
     "execution_count": 17,
     "metadata": {},
     "output_type": "execute_result"
    }
   ],
   "source": [
    "# Cantidad de periodos\n",
    "\n",
    "df.periodo.value_counts()"
   ]
  },
  {
   "cell_type": "code",
   "execution_count": 18,
   "metadata": {},
   "outputs": [
    {
     "data": {
      "text/plain": [
       "periodo\n",
       "20221    195584\n",
       "20222       540\n",
       "Name: count, dtype: int64"
      ]
     },
     "execution_count": 18,
     "metadata": {},
     "output_type": "execute_result"
    }
   ],
   "source": [
    "# Extraemos el semestre de la columna periodo\n",
    "\n",
    "def asigna_semestre(valor):\n",
    "    if valor.startswith('1') or valor.startswith('01'):\n",
    "        return 1\n",
    "    elif valor.startswith('2') or valor.startswith('02'):\n",
    "        return 2\n",
    "    else:\n",
    "        return None\n",
    "\n",
    "df['semestre'] = df['periodo'].apply(asigna_semestre)\n",
    "\n",
    "# Extraemos el anio de la columna periodo\n",
    "\n",
    "def extraer_anio(valor):\n",
    "    return valor[-4:]\n",
    "\n",
    "df['anio'] = df['periodo'].apply(extraer_anio)\n",
    "\n",
    "# Armamos columna de periodo\n",
    "\n",
    "df['periodo'] = df.anio+df.semestre.astype('str')\n",
    "df['periodo'].value_counts()"
   ]
  },
  {
   "cell_type": "code",
   "execution_count": 19,
   "metadata": {},
   "outputs": [
    {
     "data": {
      "text/plain": [
       "periodo\n",
       "1    591\n",
       "2      9\n",
       "Name: count, dtype: int64"
      ]
     },
     "execution_count": 19,
     "metadata": {},
     "output_type": "execute_result"
    }
   ],
   "source": [
    "# Cantidad de semestres cursados por estudiantes\n",
    "\n",
    "periodos_por_estudiante = df.groupby('user_uuid').periodo.nunique()\n",
    "periodos_por_estudiante.value_counts()"
   ]
  },
  {
   "cell_type": "markdown",
   "metadata": {},
   "source": [
    "Apenas 9 estudiantes en la tabla cursaron ambos semestres de 2022."
   ]
  },
  {
   "cell_type": "code",
   "execution_count": 20,
   "metadata": {},
   "outputs": [
    {
     "data": {
      "text/plain": [
       "count    600.000000\n",
       "mean       4.948333\n",
       "std        1.993059\n",
       "min        1.000000\n",
       "25%        4.000000\n",
       "50%        5.000000\n",
       "75%        6.000000\n",
       "max       16.000000\n",
       "Name: course_uuid, dtype: float64"
      ]
     },
     "execution_count": 20,
     "metadata": {},
     "output_type": "execute_result"
    }
   ],
   "source": [
    "# Cantidad de cursos tomados por estudiantes\n",
    "\n",
    "cursos_por_estudiante = df.groupby('user_uuid').course_uuid.nunique()\n",
    "cursos_por_estudiante.describe()"
   ]
  },
  {
   "cell_type": "code",
   "execution_count": 21,
   "metadata": {},
   "outputs": [
    {
     "data": {
      "text/plain": [
       "<Axes: xlabel='course_uuid', ylabel='Count'>"
      ]
     },
     "execution_count": 21,
     "metadata": {},
     "output_type": "execute_result"
    },
    {
     "data": {
      "image/png": "[encoded data removed]",
      "text/plain": [
       "<Figure size 640x480 with 1 Axes>"
      ]
     },
     "metadata": {},
     "output_type": "display_data"
    }
   ],
   "source": [
    "sns.histplot(data=cursos_por_estudiante, bins = 5)"
   ]
  },
  {
   "cell_type": "markdown",
   "metadata": {},
   "source": [
    "Vemos si el promedio de notas parciales determina la nota final"
   ]
  },
  {
   "cell_type": "code",
   "execution_count": 22,
   "metadata": {},
   "outputs": [
    {
     "data": {
      "text/plain": [
       "count    2763.000000\n",
       "mean       -0.040174\n",
       "std         0.885669\n",
       "min       -10.000000\n",
       "25%         0.000000\n",
       "50%         0.000000\n",
       "75%         0.000000\n",
       "max         9.000000\n",
       "Name: diferencia, dtype: float64"
      ]
     },
     "execution_count": 22,
     "metadata": {},
     "output_type": "execute_result"
    }
   ],
   "source": [
    "promedios_parciales = df.groupby(['user_uuid','periodo','course_uuid'], as_index=False).\\\n",
    "    agg({'nota_final_materia':'first','nota_parcial':np.mean})\n",
    "promedios_parciales.dropna(inplace = True)\n",
    "\n",
    "promedios_parciales['nota_parcial_round'] = np.ceil(promedios_parciales['nota_parcial'])\n",
    "promedios_parciales['diferencia'] = promedios_parciales['nota_final_materia'] - promedios_parciales['nota_parcial_round']\n",
    "promedios_parciales['diferencia'].describe()"
   ]
  },
  {
   "cell_type": "code",
   "execution_count": 23,
   "metadata": {},
   "outputs": [
    {
     "data": {
      "text/plain": [
       "diferencia\n",
       "False    2469\n",
       "True      294\n",
       "Name: count, dtype: int64"
      ]
     },
     "execution_count": 23,
     "metadata": {},
     "output_type": "execute_result"
    }
   ],
   "source": [
    "# Vemos cuántos casos tenemos que la nota final difiere del promedio redondeado de notas parciales\n",
    "\n",
    "parcial_difiere_final = promedios_parciales['diferencia']>0\n",
    "parcial_difiere_final.value_counts()"
   ]
  },
  {
   "cell_type": "markdown",
   "metadata": {},
   "source": [
    "En 294 cursadas la nota final difiere del promedio de notas parciales."
   ]
  },
  {
   "cell_type": "code",
   "execution_count": 24,
   "metadata": {},
   "outputs": [
    {
     "data": {
      "text/plain": [
       "False    2753\n",
       "True       10\n",
       "Name: count, dtype: int64"
      ]
     },
     "execution_count": 24,
     "metadata": {},
     "output_type": "execute_result"
    }
   ],
   "source": [
    "# Vemos cuántos casos tenemos de que desaprobo parciales y aprobo la materia\n",
    "\n",
    "desaprobo_parciales = promedios_parciales.nota_parcial_round < 4\n",
    "aprobo_materia = promedios_parciales.nota_final_materia >= 4\n",
    "inconsistencias = np.logical_and(desaprobo_parciales,aprobo_materia)\n",
    "inconsistencias.value_counts()"
   ]
  },
  {
   "cell_type": "markdown",
   "metadata": {},
   "source": [
    "En 10 cursadas el promedio de notas parciales es inferior a 4, pero la cursada fue aprobada."
   ]
  },
  {
   "cell_type": "code",
   "execution_count": 25,
   "metadata": {},
   "outputs": [
    {
     "data": {
      "text/html": [
       "<div>\n",
       "<style scoped>\n",
       "    .dataframe tbody tr th:only-of-type {\n",
       "        vertical-align: middle;\n",
       "    }\n",
       "\n",
       "    .dataframe tbody tr th {\n",
       "        vertical-align: top;\n",
       "    }\n",
       "\n",
       "    .dataframe thead th {\n",
       "        text-align: right;\n",
       "    }\n",
       "</style>\n",
       "<table border=\"1\" class=\"dataframe\">\n",
       "  <thead>\n",
       "    <tr style=\"text-align: right;\">\n",
       "      <th></th>\n",
       "      <th>particion</th>\n",
       "      <th>periodo</th>\n",
       "      <th>nota_final_materia</th>\n",
       "      <th>fecha_mesa_epoch</th>\n",
       "      <th>nombre_examen</th>\n",
       "      <th>nota_parcial</th>\n",
       "      <th>assignment_id</th>\n",
       "      <th>ass_name</th>\n",
       "      <th>ass_created_at</th>\n",
       "      <th>ass_due_at</th>\n",
       "      <th>ass_unlock_at</th>\n",
       "      <th>ass_lock_at</th>\n",
       "      <th>points_possible</th>\n",
       "      <th>ass_name_sub</th>\n",
       "      <th>sub_uuid</th>\n",
       "      <th>score</th>\n",
       "      <th>submission_type</th>\n",
       "      <th>s_submitted_at</th>\n",
       "      <th>s_graded_at</th>\n",
       "      <th>s_created_at</th>\n",
       "      <th>user_uuid</th>\n",
       "      <th>course_uuid</th>\n",
       "      <th>course_name</th>\n",
       "      <th>legajo</th>\n",
       "      <th>semestre</th>\n",
       "      <th>anio</th>\n",
       "    </tr>\n",
       "  </thead>\n",
       "  <tbody>\n",
       "    <tr>\n",
       "      <th>0</th>\n",
       "      <td>0</td>\n",
       "      <td>20221</td>\n",
       "      <td>9.0</td>\n",
       "      <td>NaN</td>\n",
       "      <td>NaN</td>\n",
       "      <td>NaN</td>\n",
       "      <td>NaN</td>\n",
       "      <td>NaN</td>\n",
       "      <td>NaN</td>\n",
       "      <td>NaN</td>\n",
       "      <td>NaN</td>\n",
       "      <td>NaN</td>\n",
       "      <td>NaN</td>\n",
       "      <td>NaN</td>\n",
       "      <td>NaN</td>\n",
       "      <td>NaN</td>\n",
       "      <td>NaN</td>\n",
       "      <td>NaN</td>\n",
       "      <td>NaN</td>\n",
       "      <td>NaN</td>\n",
       "      <td>13df535e-065c-4593-98ea-5b1e29015b7d</td>\n",
       "      <td>09614210-fce2-48bc-93e3-bc4bd441fe00</td>\n",
       "      <td>Progressive homogeneous structure</td>\n",
       "      <td>834066QFF</td>\n",
       "      <td>1</td>\n",
       "      <td>2022</td>\n",
       "    </tr>\n",
       "    <tr>\n",
       "      <th>1</th>\n",
       "      <td>1</td>\n",
       "      <td>20221</td>\n",
       "      <td>9.0</td>\n",
       "      <td>NaN</td>\n",
       "      <td>NaN</td>\n",
       "      <td>NaN</td>\n",
       "      <td>NaN</td>\n",
       "      <td>NaN</td>\n",
       "      <td>NaN</td>\n",
       "      <td>NaN</td>\n",
       "      <td>NaN</td>\n",
       "      <td>NaN</td>\n",
       "      <td>NaN</td>\n",
       "      <td>NaN</td>\n",
       "      <td>NaN</td>\n",
       "      <td>NaN</td>\n",
       "      <td>NaN</td>\n",
       "      <td>NaN</td>\n",
       "      <td>NaN</td>\n",
       "      <td>NaN</td>\n",
       "      <td>13df535e-065c-4593-98ea-5b1e29015b7d</td>\n",
       "      <td>09614210-fce2-48bc-93e3-bc4bd441fe00</td>\n",
       "      <td>Progressive homogeneous structure</td>\n",
       "      <td>834066QFF</td>\n",
       "      <td>1</td>\n",
       "      <td>2022</td>\n",
       "    </tr>\n",
       "    <tr>\n",
       "      <th>2</th>\n",
       "      <td>2</td>\n",
       "      <td>20221</td>\n",
       "      <td>9.0</td>\n",
       "      <td>NaN</td>\n",
       "      <td>NaN</td>\n",
       "      <td>NaN</td>\n",
       "      <td>NaN</td>\n",
       "      <td>NaN</td>\n",
       "      <td>NaN</td>\n",
       "      <td>NaN</td>\n",
       "      <td>NaN</td>\n",
       "      <td>NaN</td>\n",
       "      <td>NaN</td>\n",
       "      <td>NaN</td>\n",
       "      <td>NaN</td>\n",
       "      <td>NaN</td>\n",
       "      <td>NaN</td>\n",
       "      <td>NaN</td>\n",
       "      <td>NaN</td>\n",
       "      <td>NaN</td>\n",
       "      <td>13df535e-065c-4593-98ea-5b1e29015b7d</td>\n",
       "      <td>09614210-fce2-48bc-93e3-bc4bd441fe00</td>\n",
       "      <td>Progressive homogeneous structure</td>\n",
       "      <td>834066QFF</td>\n",
       "      <td>1</td>\n",
       "      <td>2022</td>\n",
       "    </tr>\n",
       "    <tr>\n",
       "      <th>3</th>\n",
       "      <td>3</td>\n",
       "      <td>20221</td>\n",
       "      <td>9.0</td>\n",
       "      <td>NaN</td>\n",
       "      <td>NaN</td>\n",
       "      <td>NaN</td>\n",
       "      <td>NaN</td>\n",
       "      <td>NaN</td>\n",
       "      <td>NaN</td>\n",
       "      <td>NaN</td>\n",
       "      <td>NaN</td>\n",
       "      <td>NaN</td>\n",
       "      <td>NaN</td>\n",
       "      <td>NaN</td>\n",
       "      <td>NaN</td>\n",
       "      <td>NaN</td>\n",
       "      <td>NaN</td>\n",
       "      <td>NaN</td>\n",
       "      <td>NaN</td>\n",
       "      <td>NaN</td>\n",
       "      <td>13df535e-065c-4593-98ea-5b1e29015b7d</td>\n",
       "      <td>09614210-fce2-48bc-93e3-bc4bd441fe00</td>\n",
       "      <td>Progressive homogeneous structure</td>\n",
       "      <td>834066QFF</td>\n",
       "      <td>1</td>\n",
       "      <td>2022</td>\n",
       "    </tr>\n",
       "    <tr>\n",
       "      <th>4</th>\n",
       "      <td>4</td>\n",
       "      <td>20221</td>\n",
       "      <td>9.0</td>\n",
       "      <td>NaN</td>\n",
       "      <td>NaN</td>\n",
       "      <td>NaN</td>\n",
       "      <td>NaN</td>\n",
       "      <td>NaN</td>\n",
       "      <td>NaN</td>\n",
       "      <td>NaN</td>\n",
       "      <td>NaN</td>\n",
       "      <td>NaN</td>\n",
       "      <td>NaN</td>\n",
       "      <td>NaN</td>\n",
       "      <td>NaN</td>\n",
       "      <td>NaN</td>\n",
       "      <td>NaN</td>\n",
       "      <td>NaN</td>\n",
       "      <td>NaN</td>\n",
       "      <td>NaN</td>\n",
       "      <td>13df535e-065c-4593-98ea-5b1e29015b7d</td>\n",
       "      <td>09614210-fce2-48bc-93e3-bc4bd441fe00</td>\n",
       "      <td>Progressive homogeneous structure</td>\n",
       "      <td>834066QFF</td>\n",
       "      <td>1</td>\n",
       "      <td>2022</td>\n",
       "    </tr>\n",
       "  </tbody>\n",
       "</table>\n",
       "</div>"
      ],
      "text/plain": [
       "   particion periodo  nota_final_materia  fecha_mesa_epoch nombre_examen  \\\n",
       "0          0   20221                 9.0               NaN           NaN   \n",
       "1          1   20221                 9.0               NaN           NaN   \n",
       "2          2   20221                 9.0               NaN           NaN   \n",
       "3          3   20221                 9.0               NaN           NaN   \n",
       "4          4   20221                 9.0               NaN           NaN   \n",
       "\n",
       "   nota_parcial  assignment_id ass_name  ass_created_at  ass_due_at  \\\n",
       "0           NaN            NaN      NaN             NaN         NaN   \n",
       "1           NaN            NaN      NaN             NaN         NaN   \n",
       "2           NaN            NaN      NaN             NaN         NaN   \n",
       "3           NaN            NaN      NaN             NaN         NaN   \n",
       "4           NaN            NaN      NaN             NaN         NaN   \n",
       "\n",
       "   ass_unlock_at  ass_lock_at  points_possible ass_name_sub sub_uuid  score  \\\n",
       "0            NaN          NaN              NaN          NaN      NaN    NaN   \n",
       "1            NaN          NaN              NaN          NaN      NaN    NaN   \n",
       "2            NaN          NaN              NaN          NaN      NaN    NaN   \n",
       "3            NaN          NaN              NaN          NaN      NaN    NaN   \n",
       "4            NaN          NaN              NaN          NaN      NaN    NaN   \n",
       "\n",
       "  submission_type  s_submitted_at  s_graded_at  s_created_at  \\\n",
       "0             NaN             NaN          NaN           NaN   \n",
       "1             NaN             NaN          NaN           NaN   \n",
       "2             NaN             NaN          NaN           NaN   \n",
       "3             NaN             NaN          NaN           NaN   \n",
       "4             NaN             NaN          NaN           NaN   \n",
       "\n",
       "                              user_uuid                           course_uuid  \\\n",
       "0  13df535e-065c-4593-98ea-5b1e29015b7d  09614210-fce2-48bc-93e3-bc4bd441fe00   \n",
       "1  13df535e-065c-4593-98ea-5b1e29015b7d  09614210-fce2-48bc-93e3-bc4bd441fe00   \n",
       "2  13df535e-065c-4593-98ea-5b1e29015b7d  09614210-fce2-48bc-93e3-bc4bd441fe00   \n",
       "3  13df535e-065c-4593-98ea-5b1e29015b7d  09614210-fce2-48bc-93e3-bc4bd441fe00   \n",
       "4  13df535e-065c-4593-98ea-5b1e29015b7d  09614210-fce2-48bc-93e3-bc4bd441fe00   \n",
       "\n",
       "                         course_name     legajo  semestre  anio  \n",
       "0  Progressive homogeneous structure  834066QFF         1  2022  \n",
       "1  Progressive homogeneous structure  834066QFF         1  2022  \n",
       "2  Progressive homogeneous structure  834066QFF         1  2022  \n",
       "3  Progressive homogeneous structure  834066QFF         1  2022  \n",
       "4  Progressive homogeneous structure  834066QFF         1  2022  "
      ]
     },
     "execution_count": 25,
     "metadata": {},
     "output_type": "execute_result"
    }
   ],
   "source": [
    "df.head()"
   ]
  },
  {
   "cell_type": "markdown",
   "metadata": {},
   "source": [
    "# 2. Edición para tabla final <a class = 'anchor' id = 'edicion_para_tabla_final'></a>"
   ]
  },
  {
   "cell_type": "code",
   "execution_count": 26,
   "metadata": {},
   "outputs": [
    {
     "data": {
      "text/plain": [
       "count    196124.000000\n",
       "mean       1481.454534\n",
       "std         856.854720\n",
       "min           0.000000\n",
       "25%         739.000000\n",
       "50%        1477.000000\n",
       "75%        2223.250000\n",
       "max        2968.000000\n",
       "Name: id, dtype: float64"
      ]
     },
     "execution_count": 26,
     "metadata": {},
     "output_type": "execute_result"
    }
   ],
   "source": [
    "# Creamos id de estudiante, materia y periodo\n",
    "\n",
    "df['id'] = pd.factorize(df['user_uuid'].astype(str) + df['periodo'].astype(str) + df['course_uuid'].astype(str))[0]\n",
    "\n",
    "df['id'] = df['id'].astype(int)\n",
    "\n",
    "df['id'].describe()"
   ]
  },
  {
   "cell_type": "code",
   "execution_count": 27,
   "metadata": {},
   "outputs": [],
   "source": [
    "# Creamos la columna dias hasta primer examen\n",
    "\n",
    "df['dias_hasta_primer_examen'] = np.nan\n",
    "\n",
    "boolean_primer_examen_tomado = df.nombre_examen=='PRIMER PARCIAL(20)'\n",
    "\n",
    "df.loc[boolean_primer_examen_tomado,'dias_hasta_primer_examen'] = df.loc[boolean_primer_examen_tomado,'particion']\n",
    "\n"
   ]
  },
  {
   "cell_type": "markdown",
   "metadata": {},
   "source": [
    "Para simplificar, vamos a tomar los casos que rindieron el primer parcial."
   ]
  },
  {
   "cell_type": "code",
   "execution_count": 28,
   "metadata": {},
   "outputs": [
    {
     "data": {
      "text/plain": [
       "2969"
      ]
     },
     "execution_count": 28,
     "metadata": {},
     "output_type": "execute_result"
    }
   ],
   "source": [
    "# Vemos cantidad de cursadas en tabla\n",
    " \n",
    "df.id.nunique()"
   ]
  },
  {
   "cell_type": "code",
   "execution_count": 29,
   "metadata": {},
   "outputs": [
    {
     "data": {
      "text/plain": [
       "tuvo_primer_examen\n",
       "1    2638\n",
       "0     331\n",
       "Name: count, dtype: int64"
      ]
     },
     "execution_count": 29,
     "metadata": {},
     "output_type": "execute_result"
    }
   ],
   "source": [
    "# Vemos cuantas cursadas no tuvieron primer examen\n",
    "\n",
    "dfaux = df.groupby('id').dias_hasta_primer_examen.nunique()\n",
    "dfaux.rename('tuvo_primer_examen', inplace = True)\n",
    "dfaux.value_counts()"
   ]
  },
  {
   "cell_type": "markdown",
   "metadata": {},
   "source": [
    "En 331 cursadas se observa que no se rindió el primer parcial."
   ]
  },
  {
   "cell_type": "code",
   "execution_count": 30,
   "metadata": {},
   "outputs": [],
   "source": [
    "# Nos quedamos con las cursadas que tuvieron primer examen\n",
    "\n",
    "df = df.merge(dfaux.reset_index(), how = 'inner', on = 'id')\n",
    "df = df[df.tuvo_primer_examen==1]\n",
    "df.reset_index(drop = True, inplace = True)"
   ]
  },
  {
   "cell_type": "markdown",
   "metadata": {},
   "source": [
    "Ahora vamos a identificar las filas que se corresponden con el período previo al primer examen"
   ]
  },
  {
   "cell_type": "code",
   "execution_count": 31,
   "metadata": {},
   "outputs": [
    {
     "name": "stdout",
     "output_type": "stream",
     "text": [
      "Terminado\n"
     ]
    }
   ],
   "source": [
    "# Armos dummy del periodo del primer examen\n",
    "\n",
    "df['periodo_previo_primer_examen'] = 0\n",
    "\n",
    "ids = list(df.id.unique())\n",
    "\n",
    "for id in ids:\n",
    "    \n",
    "    boolean_id = (df.id==id)\n",
    "\n",
    "    boolean_dias = np.logical_and(boolean_id, ~df.dias_hasta_primer_examen.isnull())\n",
    "\n",
    "    dias = float(df.loc[boolean_dias,'dias_hasta_primer_examen'].unique())\n",
    "    \n",
    "    '''OBSERVACION IMPORTANTE\n",
    "    hay que poner unique() porque hay cursos en los que hubo más de \n",
    "    una actividad (tp, integradora) en el mismo dia de examen primero\n",
    "    con lo cual hay filas duplicadas para ese mismo dia de cursada.'''\n",
    "    \n",
    "    boolean_particion = np.logical_and(boolean_id, df['particion'] <= dias)\n",
    "\n",
    "    df.loc[boolean_particion,'periodo_previo_primer_examen'] = 1\n",
    "    \n",
    "    if id==ids[-1]:\n",
    "        print('Terminado')"
   ]
  },
  {
   "cell_type": "code",
   "execution_count": 32,
   "metadata": {},
   "outputs": [],
   "source": [
    "# Nos quedamos con las filas que corresponden al periodo previo al primer examen\n",
    "\n",
    "df1 = df[df.periodo_previo_primer_examen==1]\n",
    "df1.reset_index(drop = True, inplace = True)"
   ]
  },
  {
   "cell_type": "markdown",
   "metadata": {},
   "source": [
    "Construimos features"
   ]
  },
  {
   "cell_type": "code",
   "execution_count": 33,
   "metadata": {},
   "outputs": [],
   "source": [
    "# Dummy Semestre 2\n",
    "\n",
    "df1['semestre_2'] = np.where(df1['semestre']==2, 1, 0)\n",
    "\n",
    "# Aprobo curso\n",
    "\n",
    "df1['aprobo'] = np.where(df1['nota_final_materia']>=4, 1, 0)"
   ]
  },
  {
   "cell_type": "code",
   "execution_count": 34,
   "metadata": {},
   "outputs": [],
   "source": [
    "# Aparte: Caracteristicas de actividades (tp, integradora, etc)\n",
    "\n",
    "'''Como vamos a construir indicadores en base a informacion que no se encuentra en la misma fila,\n",
    "deberemos armar esta parte por separado, ya que las caracteristicas de una misma actividad (tp, integradora, etc)\n",
    "aparecen en distintias filas para una misma cursada.''';"
   ]
  },
  {
   "cell_type": "code",
   "execution_count": 35,
   "metadata": {},
   "outputs": [],
   "source": [
    "# Identificamos las columnas que tienen información sobre las actividades desarrolladas durante la cursada\n",
    "\n",
    "columns1 = ['id','ass_name_sub', 'sub_uuid', 'score','submission_type', 's_submitted_at', 's_graded_at', 's_created_at']\n",
    "columns2 = ['id','assignment_id', 'ass_name','ass_created_at', 'ass_due_at', 'ass_unlock_at', 'ass_lock_at','points_possible']"
   ]
  },
  {
   "cell_type": "code",
   "execution_count": 36,
   "metadata": {},
   "outputs": [],
   "source": [
    "'''Agarro todas las actividades que hayan tenido score antes del primer parcial.\n",
    "Para eso agarro el df del periodo del primer parcial (df1), y tomo esas actividades'''\n",
    "\n",
    "df11 = df1[columns1]\n",
    "df11.dropna(inplace=True)\n",
    "df11.drop_duplicates(inplace=True, ignore_index= True)"
   ]
  },
  {
   "cell_type": "code",
   "execution_count": 37,
   "metadata": {},
   "outputs": [],
   "source": [
    "'''\n",
    "Como hay desfasaje de la informacion de las actividades, presentando info en distintas filas,\n",
    "entonces puede pasar que una actividad que tuvo score antes del primer examen, tenga info\n",
    "en la tabla en un periodo posterior al primer examen.\n",
    "Entonces, tomamos el df general (df), con info del periodo del primer y post primer examen, para buscar esa info adicional.\n",
    "'''\n",
    "\n",
    "df12 = df[columns2]\n",
    "df12.dropna(inplace=True)\n",
    "df12.drop_duplicates(inplace=True, ignore_index= True)\n"
   ]
  },
  {
   "cell_type": "code",
   "execution_count": 38,
   "metadata": {},
   "outputs": [],
   "source": [
    "# Unimos las bases\n",
    "\n",
    "df2 = df11.merge(df12, how = 'left'\n",
    "                 , left_on = ['id','ass_name_sub']\n",
    "                 , right_on = ['id','ass_name'])"
   ]
  },
  {
   "cell_type": "code",
   "execution_count": 39,
   "metadata": {},
   "outputs": [
    {
     "data": {
      "text/plain": [
       "(8186, 15)"
      ]
     },
     "execution_count": 39,
     "metadata": {},
     "output_type": "execute_result"
    }
   ],
   "source": [
    "df2.shape"
   ]
  },
  {
   "cell_type": "code",
   "execution_count": 40,
   "metadata": {},
   "outputs": [
    {
     "data": {
      "text/plain": [
       "(8131, 8)"
      ]
     },
     "execution_count": 40,
     "metadata": {},
     "output_type": "execute_result"
    }
   ],
   "source": [
    "df11.shape"
   ]
  },
  {
   "cell_type": "code",
   "execution_count": 41,
   "metadata": {},
   "outputs": [
    {
     "data": {
      "text/plain": [
       "(20058, 8)"
      ]
     },
     "execution_count": 41,
     "metadata": {},
     "output_type": "execute_result"
    }
   ],
   "source": [
    "df12.shape"
   ]
  },
  {
   "cell_type": "code",
   "execution_count": 42,
   "metadata": {},
   "outputs": [],
   "source": [
    "# Calculamos el tiempo entre la submision y el unlock, y tomamos el promedio para cada cursada\n",
    "\n",
    "df2['tiempo_hasta_submision'] = df2['s_submitted_at']-df2['ass_unlock_at']\n",
    "\n",
    "df2 = df2.groupby('id', as_index = False).tiempo_hasta_submision.mean()\n"
   ]
  },
  {
   "cell_type": "code",
   "execution_count": 43,
   "metadata": {},
   "outputs": [],
   "source": [
    "# Unimos con la informacion original en df1\n",
    " \n",
    "df3 = df1.merge(df2, how = 'left', on = 'id')"
   ]
  },
  {
   "cell_type": "code",
   "execution_count": 44,
   "metadata": {},
   "outputs": [
    {
     "data": {
      "text/html": [
       "<div>\n",
       "<style scoped>\n",
       "    .dataframe tbody tr th:only-of-type {\n",
       "        vertical-align: middle;\n",
       "    }\n",
       "\n",
       "    .dataframe tbody tr th {\n",
       "        vertical-align: top;\n",
       "    }\n",
       "\n",
       "    .dataframe thead th {\n",
       "        text-align: right;\n",
       "    }\n",
       "</style>\n",
       "<table border=\"1\" class=\"dataframe\">\n",
       "  <thead>\n",
       "    <tr style=\"text-align: right;\">\n",
       "      <th></th>\n",
       "      <th>id</th>\n",
       "      <th>user_uuid</th>\n",
       "      <th>periodo</th>\n",
       "      <th>course_uuid</th>\n",
       "      <th>dias_hasta_primer_examen</th>\n",
       "      <th>semestre_2</th>\n",
       "      <th>aprobo</th>\n",
       "      <th>nota_parcial</th>\n",
       "      <th>score</th>\n",
       "      <th>tiempo_hasta_submision</th>\n",
       "    </tr>\n",
       "  </thead>\n",
       "  <tbody>\n",
       "    <tr>\n",
       "      <th>0</th>\n",
       "      <td>0</td>\n",
       "      <td>13df535e-065c-4593-98ea-5b1e29015b7d</td>\n",
       "      <td>20221</td>\n",
       "      <td>09614210-fce2-48bc-93e3-bc4bd441fe00</td>\n",
       "      <td>28.0</td>\n",
       "      <td>0</td>\n",
       "      <td>1</td>\n",
       "      <td>8.0</td>\n",
       "      <td>90.000000</td>\n",
       "      <td>2.005721e+06</td>\n",
       "    </tr>\n",
       "    <tr>\n",
       "      <th>1</th>\n",
       "      <td>1</td>\n",
       "      <td>8289fbcb-a999-4b5b-8d7e-a4ea0fe477d5</td>\n",
       "      <td>20221</td>\n",
       "      <td>14d11dfe-01d7-4c8a-8489-59cce7e2d051</td>\n",
       "      <td>21.0</td>\n",
       "      <td>0</td>\n",
       "      <td>1</td>\n",
       "      <td>4.0</td>\n",
       "      <td>78.333333</td>\n",
       "      <td>5.206823e+05</td>\n",
       "    </tr>\n",
       "    <tr>\n",
       "      <th>2</th>\n",
       "      <td>3</td>\n",
       "      <td>04ad5b31-4753-4c60-b413-38541c305811</td>\n",
       "      <td>20221</td>\n",
       "      <td>9fb5bf9b-b5e3-40ef-b69e-8681fa52cb8d</td>\n",
       "      <td>27.0</td>\n",
       "      <td>0</td>\n",
       "      <td>1</td>\n",
       "      <td>8.0</td>\n",
       "      <td>96.150000</td>\n",
       "      <td>2.551589e+06</td>\n",
       "    </tr>\n",
       "    <tr>\n",
       "      <th>3</th>\n",
       "      <td>4</td>\n",
       "      <td>53e6f60f-188c-430d-b4c9-7452395ff17f</td>\n",
       "      <td>20221</td>\n",
       "      <td>d9cc0ef0-3282-4c10-b2c7-bc231a26ca6a</td>\n",
       "      <td>17.0</td>\n",
       "      <td>0</td>\n",
       "      <td>1</td>\n",
       "      <td>4.0</td>\n",
       "      <td>100.000000</td>\n",
       "      <td>7.507380e+05</td>\n",
       "    </tr>\n",
       "    <tr>\n",
       "      <th>4</th>\n",
       "      <td>5</td>\n",
       "      <td>151e0c8e-2ede-4fe3-b878-3794e946c1ac</td>\n",
       "      <td>20221</td>\n",
       "      <td>36e2d84b-246d-4086-8ea9-d3586592b476</td>\n",
       "      <td>28.0</td>\n",
       "      <td>0</td>\n",
       "      <td>1</td>\n",
       "      <td>6.0</td>\n",
       "      <td>68.000000</td>\n",
       "      <td>1.108199e+06</td>\n",
       "    </tr>\n",
       "  </tbody>\n",
       "</table>\n",
       "</div>"
      ],
      "text/plain": [
       "   id                             user_uuid periodo  \\\n",
       "0   0  13df535e-065c-4593-98ea-5b1e29015b7d   20221   \n",
       "1   1  8289fbcb-a999-4b5b-8d7e-a4ea0fe477d5   20221   \n",
       "2   3  04ad5b31-4753-4c60-b413-38541c305811   20221   \n",
       "3   4  53e6f60f-188c-430d-b4c9-7452395ff17f   20221   \n",
       "4   5  151e0c8e-2ede-4fe3-b878-3794e946c1ac   20221   \n",
       "\n",
       "                            course_uuid  dias_hasta_primer_examen  semestre_2  \\\n",
       "0  09614210-fce2-48bc-93e3-bc4bd441fe00                      28.0           0   \n",
       "1  14d11dfe-01d7-4c8a-8489-59cce7e2d051                      21.0           0   \n",
       "2  9fb5bf9b-b5e3-40ef-b69e-8681fa52cb8d                      27.0           0   \n",
       "3  d9cc0ef0-3282-4c10-b2c7-bc231a26ca6a                      17.0           0   \n",
       "4  36e2d84b-246d-4086-8ea9-d3586592b476                      28.0           0   \n",
       "\n",
       "   aprobo  nota_parcial       score  tiempo_hasta_submision  \n",
       "0       1           8.0   90.000000            2.005721e+06  \n",
       "1       1           4.0   78.333333            5.206823e+05  \n",
       "2       1           8.0   96.150000            2.551589e+06  \n",
       "3       1           4.0  100.000000            7.507380e+05  \n",
       "4       1           6.0   68.000000            1.108199e+06  "
      ]
     },
     "execution_count": 44,
     "metadata": {},
     "output_type": "execute_result"
    }
   ],
   "source": [
    "# Agrupamos el df por id, seleccionando un conjunto de medidas\n",
    "\n",
    "df4 = df3.groupby('id').agg({'user_uuid':'first'\n",
    "                            ,'periodo':'first'\n",
    "                            ,'course_uuid':'first'\n",
    "                            ,'dias_hasta_primer_examen':'first'\n",
    "                            ,'semestre_2':'first'\n",
    "                            ,'aprobo':'first'\n",
    "                            ,'nota_parcial':'first'\n",
    "                            ,'score':'mean'\n",
    "                            ,'tiempo_hasta_submision':'first'\n",
    "})\n",
    "\n",
    "df4.reset_index(drop=False, inplace = True)\n",
    "\n",
    "df4.head()"
   ]
  },
  {
   "cell_type": "code",
   "execution_count": 45,
   "metadata": {},
   "outputs": [],
   "source": [
    "# Especificar la ruta de la carpeta\n",
    "carpeta_path = directorio_de_trabajo + '\\output'\n",
    "\n",
    "# Verificar si la carpeta existe y crearla si no\n",
    "if not os.path.exists(carpeta_path):\n",
    "    os.makedirs(carpeta_path)\n",
    "\n",
    "# Especificar la ruta completa del archivo dentro de la carpeta\n",
    "archivo_path = os.path.join(carpeta_path, 'output_dw.csv')\n",
    "\n",
    "# Guardar el DataFrame en un archivo CSV\n",
    "df4.to_csv(archivo_path, index=False)"
   ]
  }
 ],
 "metadata": {
  "kernelspec": {
   "display_name": "Python 3",
   "language": "python",
   "name": "python3"
  },
  "language_info": {
   "codemirror_mode": {
    "name": "ipython",
    "version": 3
   },
   "file_extension": ".py",
   "mimetype": "text/x-python",
   "name": "python",
   "nbconvert_exporter": "python",
   "pygments_lexer": "ipython3",
   "version": "3.11.3"
  }
 },
 "nbformat": 4,
 "nbformat_minor": 2
}
